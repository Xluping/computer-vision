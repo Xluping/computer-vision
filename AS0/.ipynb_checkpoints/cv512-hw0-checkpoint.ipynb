{
 "cells": [
  {
   "cell_type": "markdown",
   "metadata": {},
   "source": [
    "# VISMAYA VEERAMANJU KALYAN\n",
    "### A20423189\n",
    "CS512<br>\n",
    "1st SEMESTER<br>\n",
    "Computer Vision (cs512-hw0)<br>"
   ]
  },
  {
   "cell_type": "markdown",
   "metadata": {},
   "source": [
    "### A.  "
   ]
  },
  {
   "cell_type": "code",
   "execution_count": 570,
   "metadata": {},
   "outputs": [],
   "source": [
    "from numpy import matrix\n",
    "from numpy import linalg\n",
    "import math\n",
    "import numpy\n",
    "numpy.set_printoptions(suppress=True)\n",
    "\n",
    "A = matrix( [[1],[2],[3]] )\n",
    "B = matrix( [[4],[5],[6]] )\n",
    "C = matrix( [[-1],[1],[3]] )"
   ]
  },
  {
   "cell_type": "markdown",
   "metadata": {},
   "source": [
    "*1. 2A – B *"
   ]
  },
  {
   "cell_type": "code",
   "execution_count": 571,
   "metadata": {
    "scrolled": true
   },
   "outputs": [
    {
     "data": {
      "text/plain": [
       "matrix([[-2],\n",
       "        [-1],\n",
       "        [ 0]])"
      ]
     },
     "execution_count": 571,
     "metadata": {},
     "output_type": "execute_result"
    }
   ],
   "source": [
    "A1 = 2 * A - B\n",
    "A1"
   ]
  },
  {
   "cell_type": "markdown",
   "metadata": {},
   "source": [
    "*2. ||A|| and the angle of A relative to the positive X axis *"
   ]
  },
  {
   "cell_type": "code",
   "execution_count": 572,
   "metadata": {},
   "outputs": [
    {
     "data": {
      "text/plain": [
       "3.7416573867739418"
      ]
     },
     "execution_count": 572,
     "metadata": {},
     "output_type": "execute_result"
    }
   ],
   "source": [
    "normA = numpy.linalg.norm(A, ord = 2)\n",
    "normA"
   ]
  },
  {
   "cell_type": "code",
   "execution_count": 573,
   "metadata": {},
   "outputs": [
    {
     "data": {
      "text/plain": [
       "1.3002465638163239"
      ]
     },
     "execution_count": 573,
     "metadata": {},
     "output_type": "execute_result"
    }
   ],
   "source": [
    "A2 = numpy.arccos(A.item(0)/normA)\n",
    "A2"
   ]
  },
  {
   "cell_type": "markdown",
   "metadata": {},
   "source": [
    "*3. A, a unit vector in the direction of A *"
   ]
  },
  {
   "cell_type": "code",
   "execution_count": 574,
   "metadata": {
    "scrolled": true
   },
   "outputs": [
    {
     "data": {
      "text/plain": [
       "matrix([[0.26726124],\n",
       "        [0.53452248],\n",
       "        [0.80178373]])"
      ]
     },
     "execution_count": 574,
     "metadata": {},
     "output_type": "execute_result"
    }
   ],
   "source": [
    "A3 = (1/ normA) * A\n",
    "A3"
   ]
  },
  {
   "cell_type": "markdown",
   "metadata": {},
   "source": [
    "*4. the direction cosines of A *"
   ]
  },
  {
   "cell_type": "code",
   "execution_count": 575,
   "metadata": {},
   "outputs": [
    {
     "data": {
      "text/plain": [
       "(0.26726124191242434, 0.5345224838248487, 0.8017837257372731)"
      ]
     },
     "execution_count": 575,
     "metadata": {},
     "output_type": "execute_result"
    }
   ],
   "source": [
    "cosalpha = A.item(0)/normA\n",
    "cosbeta = A.item(1)/normA\n",
    "cosgamma = A.item(2)/normA\n",
    "cosalpha, cosbeta, cosgamma"
   ]
  },
  {
   "cell_type": "markdown",
   "metadata": {},
   "source": [
    "*5. A. B and B: A *"
   ]
  },
  {
   "cell_type": "code",
   "execution_count": 576,
   "metadata": {
    "scrolled": true
   },
   "outputs": [
    {
     "data": {
      "text/plain": [
       "(matrix([[32]]), matrix([[32]]))"
      ]
     },
     "execution_count": 576,
     "metadata": {},
     "output_type": "execute_result"
    }
   ],
   "source": [
    "A5a = numpy.dot(A.transpose(),B)\n",
    "A5b = numpy.dot(B.transpose(),A)\n",
    "A5a ,A5b"
   ]
  },
  {
   "cell_type": "markdown",
   "metadata": {},
   "source": [
    "*6. the angle between A and B<br>*"
   ]
  },
  {
   "cell_type": "code",
   "execution_count": 577,
   "metadata": {},
   "outputs": [
    {
     "data": {
      "text/plain": [
       "matrix([[0.97463185]])"
      ]
     },
     "execution_count": 577,
     "metadata": {},
     "output_type": "execute_result"
    }
   ],
   "source": [
    "normB = numpy.linalg.norm(B, ord = 2)\n",
    "normB\n",
    "A6 = A5a / (normA * normB)\n",
    "A6 "
   ]
  },
  {
   "cell_type": "code",
   "execution_count": 578,
   "metadata": {
    "scrolled": true
   },
   "outputs": [
    {
     "data": {
      "text/plain": [
       "0.0"
      ]
     },
     "execution_count": 578,
     "metadata": {},
     "output_type": "execute_result"
    }
   ],
   "source": [
    "theta = numpy.arccos(math.ceil(A6))\n",
    "theta"
   ]
  },
  {
   "cell_type": "markdown",
   "metadata": {},
   "source": [
    "*7. a vector which is perpendicular to A *"
   ]
  },
  {
   "cell_type": "markdown",
   "metadata": {},
   "source": [
    "u.v=0<br>\n",
    "1a +2b +3c = 0<br>\n",
    "a = 1 , b = 1 so c = -1<br>\n",
    "[1 1 -1]<br>"
   ]
  },
  {
   "cell_type": "markdown",
   "metadata": {},
   "source": [
    "*8. A x B and B X A *"
   ]
  },
  {
   "cell_type": "code",
   "execution_count": 579,
   "metadata": {},
   "outputs": [
    {
     "data": {
      "text/plain": [
       "(array([-3,  6, -3]), array([ 3, -6,  3]))"
      ]
     },
     "execution_count": 579,
     "metadata": {},
     "output_type": "execute_result"
    }
   ],
   "source": [
    "Aarray = numpy.squeeze(numpy.asarray(A))\n",
    "Barray = numpy.squeeze(numpy.asarray(B))\n",
    "A8a = numpy.cross(Aarray,Barray)\n",
    "A8b = numpy.cross(Barray,Aarray)\n",
    "A8a , A8b"
   ]
  },
  {
   "cell_type": "markdown",
   "metadata": {},
   "source": [
    "*9. a vector which is perpendicular to both A and B *"
   ]
  },
  {
   "cell_type": "markdown",
   "metadata": {},
   "source": [
    "use cross product <br>\n",
    "-3i + 6j -3k = 0<br>\n",
    "i = 1, j = 1 then k = 1<br>"
   ]
  },
  {
   "cell_type": "markdown",
   "metadata": {},
   "source": [
    "*11. ATB and ABT.*"
   ]
  },
  {
   "cell_type": "code",
   "execution_count": 580,
   "metadata": {},
   "outputs": [
    {
     "name": "stdout",
     "output_type": "stream",
     "text": [
      "AtB:   [[32]]\n",
      "ABt:  \n",
      " [[ 4  5  6]\n",
      " [ 8 10 12]\n",
      " [12 15 18]]\n"
     ]
    }
   ],
   "source": [
    "At = numpy.transpose(A)\n",
    "Bt = numpy.transpose(B)\n",
    "A11a = numpy.matmul(At,B)\n",
    "A11b = numpy.matmul(A,Bt)\n",
    "print(\"AtB:  \",A11a)\n",
    "print(\"ABt:  \\n\",A11b)"
   ]
  },
  {
   "cell_type": "markdown",
   "metadata": {},
   "source": [
    "### B. "
   ]
  },
  {
   "cell_type": "code",
   "execution_count": 581,
   "metadata": {},
   "outputs": [],
   "source": [
    "A = matrix( [[1,2,3],[4,-2,3],[0,5,-1]] )\n",
    "B = matrix( [[1,2,1],[2,1,-4],[3,-2,1]] )\n",
    "C = matrix( [[1,2,3],[4,5,6],[-1,1,3]] )"
   ]
  },
  {
   "cell_type": "markdown",
   "metadata": {},
   "source": [
    "*1. 2A – B *"
   ]
  },
  {
   "cell_type": "code",
   "execution_count": 582,
   "metadata": {},
   "outputs": [
    {
     "data": {
      "text/plain": [
       "matrix([[ 1,  2,  5],\n",
       "        [ 6, -5, 10],\n",
       "        [-3, 12, -3]])"
      ]
     },
     "execution_count": 582,
     "metadata": {},
     "output_type": "execute_result"
    }
   ],
   "source": [
    "B1 = 2 * A - B\n",
    "B1"
   ]
  },
  {
   "cell_type": "markdown",
   "metadata": {},
   "source": [
    "*2. AB and BA *"
   ]
  },
  {
   "cell_type": "code",
   "execution_count": 583,
   "metadata": {},
   "outputs": [
    {
     "name": "stdout",
     "output_type": "stream",
     "text": [
      "AB:\n",
      "  [[ 14  -2  -4]\n",
      " [  9   0  15]\n",
      " [  7   7 -21]]\n",
      "BA:\n",
      "  [[  9   3   8]\n",
      " [  6 -18  13]\n",
      " [ -5  15   2]]\n"
     ]
    }
   ],
   "source": [
    "B2a = numpy.matmul(A,B)\n",
    "B2b = numpy.matmul(B,A)\n",
    "print(\"AB:\\n \", B2a)\n",
    "print(\"BA:\\n \", B2b)"
   ]
  },
  {
   "cell_type": "markdown",
   "metadata": {},
   "source": [
    "*3. (AB)T and BT AT*"
   ]
  },
  {
   "cell_type": "code",
   "execution_count": 584,
   "metadata": {},
   "outputs": [
    {
     "name": "stdout",
     "output_type": "stream",
     "text": [
      "(AB)T :\n",
      "  [[ 14   9   7]\n",
      " [ -2   0   7]\n",
      " [ -4  15 -21]]\n",
      "BTAT :\n",
      "  [[ 14   9   7]\n",
      " [ -2   0   7]\n",
      " [ -4  15 -21]]\n"
     ]
    }
   ],
   "source": [
    "B3a = numpy.transpose(numpy.matmul(A,B))\n",
    "B3b = numpy.matmul(numpy.transpose(B),numpy.transpose(A))\n",
    "print(\"(AB)T :\\n \", B3a)\n",
    "print(\"BTAT :\\n \", B3b)"
   ]
  },
  {
   "cell_type": "markdown",
   "metadata": {},
   "source": [
    "*4. |A| and |C| (note A-10) *"
   ]
  },
  {
   "cell_type": "code",
   "execution_count": 585,
   "metadata": {},
   "outputs": [
    {
     "name": "stdout",
     "output_type": "stream",
     "text": [
      "detA :\n",
      "  54.999999999999964\n",
      "detC :\n",
      "  7.494005416219837e-16\n"
     ]
    }
   ],
   "source": [
    "detA = linalg.det(A)\n",
    "detC = linalg.det(C)\n",
    "print(\"detA :\\n \", detA)\n",
    "print(\"detC :\\n \", detC)"
   ]
  },
  {
   "cell_type": "markdown",
   "metadata": {},
   "source": [
    "*5. the matrix (A, B, or C) in which the row vectors form an orthogonal set *"
   ]
  },
  {
   "cell_type": "code",
   "execution_count": 586,
   "metadata": {},
   "outputs": [
    {
     "data": {
      "text/plain": [
       "(matrix([[0]]), matrix([[0]]), matrix([[0]]))"
      ]
     },
     "execution_count": 586,
     "metadata": {},
     "output_type": "execute_result"
    }
   ],
   "source": [
    "ans1 = numpy.dot(B[[0], ],numpy.transpose( B[[1], ]))\n",
    "ans2 = numpy.dot(B[[1], ],numpy.transpose( B[[2], ]))\n",
    "ans3 = numpy.dot(B[[2], ],numpy.transpose( B[[0], ]))\n",
    "ans1, ans2, ans3"
   ]
  },
  {
   "cell_type": "markdown",
   "metadata": {},
   "source": [
    "Matrix B forms the Orthogonal set."
   ]
  },
  {
   "cell_type": "markdown",
   "metadata": {},
   "source": [
    "*6. A-1 and B-1 (note B-5)*"
   ]
  },
  {
   "cell_type": "code",
   "execution_count": 587,
   "metadata": {},
   "outputs": [
    {
     "name": "stdout",
     "output_type": "stream",
     "text": [
      "invA :\n",
      "  [[-0.23636364  0.30909091  0.21818182]\n",
      " [ 0.07272727 -0.01818182  0.16363636]\n",
      " [ 0.36363636 -0.09090909 -0.18181818]]\n",
      "invB :\n",
      "  [[ 0.16666667  0.0952381   0.21428571]\n",
      " [ 0.33333333  0.04761905 -0.14285714]\n",
      " [ 0.16666667 -0.19047619  0.07142857]]\n"
     ]
    }
   ],
   "source": [
    "invA = linalg.inv(A)\n",
    "invB = linalg.inv(B)\n",
    "print(\"invA :\\n \", invA)\n",
    "print(\"invB :\\n \", invB)"
   ]
  },
  {
   "cell_type": "markdown",
   "metadata": {},
   "source": [
    "### C. "
   ]
  },
  {
   "cell_type": "code",
   "execution_count": 588,
   "metadata": {},
   "outputs": [],
   "source": [
    "A = matrix( [[1,2],[3,2]] )\n",
    "B = matrix( [[2,-2],[-2,5]] )"
   ]
  },
  {
   "cell_type": "markdown",
   "metadata": {},
   "source": [
    "*1. the eigenvalues and corresponding eigenvectors of A.*"
   ]
  },
  {
   "cell_type": "code",
   "execution_count": 589,
   "metadata": {
    "scrolled": true
   },
   "outputs": [
    {
     "data": {
      "text/plain": [
       "(matrix([[-0.70710678, -0.5547002 ],\n",
       "         [ 0.70710678, -0.83205029]]), array([-1.,  4.]))"
      ]
     },
     "execution_count": 589,
     "metadata": {},
     "output_type": "execute_result"
    }
   ],
   "source": [
    "wA, VA = linalg.eig(A)\n",
    "VA, wA"
   ]
  },
  {
   "cell_type": "code",
   "execution_count": 590,
   "metadata": {},
   "outputs": [
    {
     "data": {
      "text/plain": [
       "(matrix([[-0.70710678],\n",
       "         [ 0.70710678]]), matrix([[-0.5547002 ],\n",
       "         [-0.83205029]]))"
      ]
     },
     "execution_count": 590,
     "metadata": {},
     "output_type": "execute_result"
    }
   ],
   "source": [
    "VA[:,0] , VA[:,1]"
   ]
  },
  {
   "cell_type": "markdown",
   "metadata": {},
   "source": [
    "To check the vectors"
   ]
  },
  {
   "cell_type": "code",
   "execution_count": 591,
   "metadata": {
    "scrolled": true
   },
   "outputs": [
    {
     "data": {
      "text/plain": [
       "(matrix([[-1.],\n",
       "         [-1.]]), matrix([[4.],\n",
       "         [4.]]))"
      ]
     },
     "execution_count": 591,
     "metadata": {},
     "output_type": "execute_result"
    }
   ],
   "source": [
    "vec1 = (A * VA[:,0])/VA[:,0]\n",
    "vec2 = (A * VA[:,1])/VA[:,1]\n",
    "vec1 ,vec2"
   ]
  },
  {
   "cell_type": "markdown",
   "metadata": {},
   "source": [
    "*2. the matrix V-1AV where V is composed of the eigenvectors of A. *"
   ]
  },
  {
   "cell_type": "code",
   "execution_count": 592,
   "metadata": {},
   "outputs": [
    {
     "data": {
      "text/plain": [
       "(matrix([[-1., -0.],\n",
       "         [ 0.,  4.]]), matrix([[ 0.84852814, -0.56568542],\n",
       "         [-2.88444102, -2.88444102]]))"
      ]
     },
     "execution_count": 592,
     "metadata": {},
     "output_type": "execute_result"
    }
   ],
   "source": [
    "Vinv = linalg.inv(VA)\n",
    "inter = numpy.matmul(Vinv,A)\n",
    "C2 = numpy.matmul(inter,VA)\n",
    "C2 , inter"
   ]
  },
  {
   "cell_type": "markdown",
   "metadata": {},
   "source": [
    "*3. the dot product between the eigenvectors of A.*"
   ]
  },
  {
   "cell_type": "code",
   "execution_count": 593,
   "metadata": {},
   "outputs": [
    {
     "data": {
      "text/plain": [
       "matrix([[-0.19611614]])"
      ]
     },
     "execution_count": 593,
     "metadata": {},
     "output_type": "execute_result"
    }
   ],
   "source": [
    "FIRSTA = VA[:,0]\n",
    "FIRSTB = VA[:,1]\n",
    "C3 = numpy.dot(FIRSTA.transpose(), FIRSTB)\n",
    "C3"
   ]
  },
  {
   "cell_type": "markdown",
   "metadata": {},
   "source": [
    "*4. the dot product between the eigenvectors of B. *"
   ]
  },
  {
   "cell_type": "code",
   "execution_count": 594,
   "metadata": {},
   "outputs": [
    {
     "data": {
      "text/plain": [
       "(matrix([[0.]]), matrix([[-0.89442719,  0.4472136 ],\n",
       "         [-0.4472136 , -0.89442719]]))"
      ]
     },
     "execution_count": 594,
     "metadata": {},
     "output_type": "execute_result"
    }
   ],
   "source": [
    "wB, VB = linalg.eig(B)\n",
    "SECA = VB[:,0]\n",
    "SECB = VB[:,1]\n",
    "C3 = numpy.dot(SECA.transpose(), SECB)\n",
    "C3 "
   ]
  },
  {
   "cell_type": "markdown",
   "metadata": {},
   "source": [
    "### D. \n"
   ]
  },
  {
   "cell_type": "markdown",
   "metadata": {},
   "source": [
    "*1. the first and second derivatives of f(x) with respect to x: f'(x), and f''(x).*"
   ]
  },
  {
   "cell_type": "code",
   "execution_count": 595,
   "metadata": {},
   "outputs": [
    {
     "data": {
      "text/plain": [
       "2*x"
      ]
     },
     "execution_count": 595,
     "metadata": {},
     "output_type": "execute_result"
    }
   ],
   "source": [
    "from sympy import Symbol, Derivative, symbols, diff\n",
    "\n",
    "x = Symbol('x')\n",
    "\n",
    "function1 = x**2 + 3\n",
    "\n",
    "deriv = Derivative(function1, x)\n",
    "deriv.doit()"
   ]
  },
  {
   "cell_type": "code",
   "execution_count": 596,
   "metadata": {},
   "outputs": [
    {
     "data": {
      "text/plain": [
       "2"
      ]
     },
     "execution_count": 596,
     "metadata": {},
     "output_type": "execute_result"
    }
   ],
   "source": [
    "x = Symbol('x')\n",
    "\n",
    "function2 = x**2 + 3\n",
    "\n",
    "deriv = Derivative(function2, x, 2)\n",
    "deriv.doit()"
   ]
  },
  {
   "cell_type": "markdown",
   "metadata": {},
   "source": [
    "*2. The partial derivatives: dg/dx and dg/dy *"
   ]
  },
  {
   "cell_type": "code",
   "execution_count": 597,
   "metadata": {
    "scrolled": true
   },
   "outputs": [
    {
     "data": {
      "text/plain": [
       "2*x"
      ]
     },
     "execution_count": 597,
     "metadata": {},
     "output_type": "execute_result"
    }
   ],
   "source": [
    "x , y = symbols('x y', real=True)\n",
    ">>> g = x**2 + y**2\n",
    ">>> diff(g, x)"
   ]
  },
  {
   "cell_type": "code",
   "execution_count": 598,
   "metadata": {
    "scrolled": false
   },
   "outputs": [
    {
     "data": {
      "text/plain": [
       "2*y"
      ]
     },
     "execution_count": 598,
     "metadata": {},
     "output_type": "execute_result"
    }
   ],
   "source": [
    "diff(g, y)"
   ]
  }
 ],
 "metadata": {
  "kernelspec": {
   "display_name": "Python 3",
   "language": "python",
   "name": "python3"
  },
  "language_info": {
   "codemirror_mode": {
    "name": "ipython",
    "version": 3
   },
   "file_extension": ".py",
   "mimetype": "text/x-python",
   "name": "python",
   "nbconvert_exporter": "python",
   "pygments_lexer": "ipython3",
   "version": "3.6.5"
  }
 },
 "nbformat": 4,
 "nbformat_minor": 2
}
